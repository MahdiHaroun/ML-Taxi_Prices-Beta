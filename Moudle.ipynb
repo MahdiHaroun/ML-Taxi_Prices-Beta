{
 "cells": [
  {
   "cell_type": "code",
   "execution_count": 4,
   "metadata": {},
   "outputs": [],
   "source": [
    "import pandas as pd\n",
    "import numpy as np\n",
    "import seaborn as sns\n",
    "import matplotlib.pyplot as plt\n",
    "plt.style.use('dark_background')\n",
    "from sklearn.model_selection import train_test_split\n",
    "from sklearn.linear_model import LinearRegression\n",
    "from sklearn.metrics import r2_score\n",
    "from sklearn.preprocessing import StandardScaler\n"
   ]
  },
  {
   "cell_type": "code",
   "execution_count": 5,
   "metadata": {},
   "outputs": [],
   "source": [
    "dataFrame = pd.read_csv('taxi_trip_pricing.csv')"
   ]
  },
  {
   "cell_type": "code",
   "execution_count": 6,
   "metadata": {},
   "outputs": [
    {
     "name": "stdout",
     "output_type": "stream",
     "text": [
      "Trip_Distance_km\n",
      "Time_of_Day\n",
      "Day_of_Week\n",
      "Passenger_Count\n",
      "Traffic_Conditions\n",
      "Weather\n",
      "Base_Fare\n",
      "Per_Km_Rate\n",
      "Per_Minute_Rate\n",
      "Trip_Duration_Minutes\n",
      "Trip_Price\n"
     ]
    }
   ],
   "source": [
    "for column in dataFrame.columns:\n",
    "  print(column)"
   ]
  },
  {
   "cell_type": "code",
   "execution_count": 7,
   "metadata": {},
   "outputs": [],
   "source": [
    "dataFrame.drop(['Base_Fare','Per_Km_Rate','Per_Minute_Rate'] , axis = 1 , inplace = True)"
   ]
  },
  {
   "cell_type": "code",
   "execution_count": 8,
   "metadata": {},
   "outputs": [
    {
     "name": "stdout",
     "output_type": "stream",
     "text": [
      "Trip_Distance_km\n",
      "Time_of_Day\n",
      "Day_of_Week\n",
      "Passenger_Count\n",
      "Traffic_Conditions\n",
      "Weather\n",
      "Trip_Duration_Minutes\n",
      "Trip_Price\n"
     ]
    }
   ],
   "source": [
    "for column in dataFrame.columns:\n",
    "  print(column)"
   ]
  },
  {
   "cell_type": "code",
   "execution_count": 9,
   "metadata": {},
   "outputs": [
    {
     "data": {
      "text/html": [
       "<div>\n",
       "<style scoped>\n",
       "    .dataframe tbody tr th:only-of-type {\n",
       "        vertical-align: middle;\n",
       "    }\n",
       "\n",
       "    .dataframe tbody tr th {\n",
       "        vertical-align: top;\n",
       "    }\n",
       "\n",
       "    .dataframe thead th {\n",
       "        text-align: right;\n",
       "    }\n",
       "</style>\n",
       "<table border=\"1\" class=\"dataframe\">\n",
       "  <thead>\n",
       "    <tr style=\"text-align: right;\">\n",
       "      <th></th>\n",
       "      <th>Trip_Distance_km</th>\n",
       "      <th>Time_of_Day</th>\n",
       "      <th>Day_of_Week</th>\n",
       "      <th>Passenger_Count</th>\n",
       "      <th>Traffic_Conditions</th>\n",
       "      <th>Weather</th>\n",
       "      <th>Trip_Duration_Minutes</th>\n",
       "      <th>Trip_Price</th>\n",
       "    </tr>\n",
       "  </thead>\n",
       "  <tbody>\n",
       "    <tr>\n",
       "      <th>0</th>\n",
       "      <td>19.35</td>\n",
       "      <td>Morning</td>\n",
       "      <td>Weekday</td>\n",
       "      <td>3.0</td>\n",
       "      <td>Low</td>\n",
       "      <td>Clear</td>\n",
       "      <td>53.82</td>\n",
       "      <td>36.2624</td>\n",
       "    </tr>\n",
       "    <tr>\n",
       "      <th>1</th>\n",
       "      <td>47.59</td>\n",
       "      <td>Afternoon</td>\n",
       "      <td>Weekday</td>\n",
       "      <td>1.0</td>\n",
       "      <td>High</td>\n",
       "      <td>Clear</td>\n",
       "      <td>40.57</td>\n",
       "      <td>NaN</td>\n",
       "    </tr>\n",
       "    <tr>\n",
       "      <th>2</th>\n",
       "      <td>36.87</td>\n",
       "      <td>Evening</td>\n",
       "      <td>Weekend</td>\n",
       "      <td>1.0</td>\n",
       "      <td>High</td>\n",
       "      <td>Clear</td>\n",
       "      <td>37.27</td>\n",
       "      <td>52.9032</td>\n",
       "    </tr>\n",
       "    <tr>\n",
       "      <th>3</th>\n",
       "      <td>30.33</td>\n",
       "      <td>Evening</td>\n",
       "      <td>Weekday</td>\n",
       "      <td>4.0</td>\n",
       "      <td>Low</td>\n",
       "      <td>NaN</td>\n",
       "      <td>116.81</td>\n",
       "      <td>36.4698</td>\n",
       "    </tr>\n",
       "    <tr>\n",
       "      <th>4</th>\n",
       "      <td>NaN</td>\n",
       "      <td>Evening</td>\n",
       "      <td>Weekday</td>\n",
       "      <td>3.0</td>\n",
       "      <td>High</td>\n",
       "      <td>Clear</td>\n",
       "      <td>22.64</td>\n",
       "      <td>15.6180</td>\n",
       "    </tr>\n",
       "    <tr>\n",
       "      <th>5</th>\n",
       "      <td>8.64</td>\n",
       "      <td>Afternoon</td>\n",
       "      <td>Weekend</td>\n",
       "      <td>2.0</td>\n",
       "      <td>Medium</td>\n",
       "      <td>Clear</td>\n",
       "      <td>89.33</td>\n",
       "      <td>60.2028</td>\n",
       "    </tr>\n",
       "    <tr>\n",
       "      <th>6</th>\n",
       "      <td>3.85</td>\n",
       "      <td>Afternoon</td>\n",
       "      <td>Weekday</td>\n",
       "      <td>4.0</td>\n",
       "      <td>High</td>\n",
       "      <td>Rain</td>\n",
       "      <td>5.05</td>\n",
       "      <td>11.2645</td>\n",
       "    </tr>\n",
       "    <tr>\n",
       "      <th>7</th>\n",
       "      <td>43.44</td>\n",
       "      <td>Evening</td>\n",
       "      <td>Weekend</td>\n",
       "      <td>3.0</td>\n",
       "      <td>NaN</td>\n",
       "      <td>Clear</td>\n",
       "      <td>NaN</td>\n",
       "      <td>101.1216</td>\n",
       "    </tr>\n",
       "    <tr>\n",
       "      <th>8</th>\n",
       "      <td>30.45</td>\n",
       "      <td>Morning</td>\n",
       "      <td>Weekday</td>\n",
       "      <td>3.0</td>\n",
       "      <td>High</td>\n",
       "      <td>Clear</td>\n",
       "      <td>110.33</td>\n",
       "      <td>NaN</td>\n",
       "    </tr>\n",
       "    <tr>\n",
       "      <th>9</th>\n",
       "      <td>35.70</td>\n",
       "      <td>Afternoon</td>\n",
       "      <td>Weekday</td>\n",
       "      <td>2.0</td>\n",
       "      <td>Low</td>\n",
       "      <td>Rain</td>\n",
       "      <td>NaN</td>\n",
       "      <td>75.5657</td>\n",
       "    </tr>\n",
       "  </tbody>\n",
       "</table>\n",
       "</div>"
      ],
      "text/plain": [
       "   Trip_Distance_km Time_of_Day Day_of_Week  Passenger_Count  \\\n",
       "0             19.35     Morning     Weekday              3.0   \n",
       "1             47.59   Afternoon     Weekday              1.0   \n",
       "2             36.87     Evening     Weekend              1.0   \n",
       "3             30.33     Evening     Weekday              4.0   \n",
       "4               NaN     Evening     Weekday              3.0   \n",
       "5              8.64   Afternoon     Weekend              2.0   \n",
       "6              3.85   Afternoon     Weekday              4.0   \n",
       "7             43.44     Evening     Weekend              3.0   \n",
       "8             30.45     Morning     Weekday              3.0   \n",
       "9             35.70   Afternoon     Weekday              2.0   \n",
       "\n",
       "  Traffic_Conditions Weather  Trip_Duration_Minutes  Trip_Price  \n",
       "0                Low   Clear                  53.82     36.2624  \n",
       "1               High   Clear                  40.57         NaN  \n",
       "2               High   Clear                  37.27     52.9032  \n",
       "3                Low     NaN                 116.81     36.4698  \n",
       "4               High   Clear                  22.64     15.6180  \n",
       "5             Medium   Clear                  89.33     60.2028  \n",
       "6               High    Rain                   5.05     11.2645  \n",
       "7                NaN   Clear                    NaN    101.1216  \n",
       "8               High   Clear                 110.33         NaN  \n",
       "9                Low    Rain                    NaN     75.5657  "
      ]
     },
     "execution_count": 9,
     "metadata": {},
     "output_type": "execute_result"
    }
   ],
   "source": [
    "dataFrame.head(10)"
   ]
  },
  {
   "cell_type": "code",
   "execution_count": 10,
   "metadata": {},
   "outputs": [
    {
     "name": "stderr",
     "output_type": "stream",
     "text": [
      "C:\\Users\\fares\\AppData\\Local\\Temp\\ipykernel_14892\\989743489.py:2: FutureWarning: Downcasting behavior in `replace` is deprecated and will be removed in a future version. To retain the old behavior, explicitly call `result.infer_objects(copy=False)`. To opt-in to the future behavior, set `pd.set_option('future.no_silent_downcasting', True)`\n",
      "  dataFrame['Traffic_Conditions'] = dataFrame['Traffic_Conditions'].replace(Traffic_Conditions_mapper)\n",
      "C:\\Users\\fares\\AppData\\Local\\Temp\\ipykernel_14892\\989743489.py:6: FutureWarning: Downcasting behavior in `replace` is deprecated and will be removed in a future version. To retain the old behavior, explicitly call `result.infer_objects(copy=False)`. To opt-in to the future behavior, set `pd.set_option('future.no_silent_downcasting', True)`\n",
      "  dataFrame['Time_of_Day'] = dataFrame['Time_of_Day'].replace(Time_of_Day_mapper)\n",
      "C:\\Users\\fares\\AppData\\Local\\Temp\\ipykernel_14892\\989743489.py:9: FutureWarning: Downcasting behavior in `replace` is deprecated and will be removed in a future version. To retain the old behavior, explicitly call `result.infer_objects(copy=False)`. To opt-in to the future behavior, set `pd.set_option('future.no_silent_downcasting', True)`\n",
      "  dataFrame['Day_of_Week'] = dataFrame['Day_of_Week'].replace(Day_of_Week_mapper)\n",
      "C:\\Users\\fares\\AppData\\Local\\Temp\\ipykernel_14892\\989743489.py:12: FutureWarning: Downcasting behavior in `replace` is deprecated and will be removed in a future version. To retain the old behavior, explicitly call `result.infer_objects(copy=False)`. To opt-in to the future behavior, set `pd.set_option('future.no_silent_downcasting', True)`\n",
      "  dataFrame['Weather'] = dataFrame['Weather'].replace(Weather_mapper)\n"
     ]
    },
    {
     "data": {
      "text/html": [
       "<div>\n",
       "<style scoped>\n",
       "    .dataframe tbody tr th:only-of-type {\n",
       "        vertical-align: middle;\n",
       "    }\n",
       "\n",
       "    .dataframe tbody tr th {\n",
       "        vertical-align: top;\n",
       "    }\n",
       "\n",
       "    .dataframe thead th {\n",
       "        text-align: right;\n",
       "    }\n",
       "</style>\n",
       "<table border=\"1\" class=\"dataframe\">\n",
       "  <thead>\n",
       "    <tr style=\"text-align: right;\">\n",
       "      <th></th>\n",
       "      <th>Trip_Distance_km</th>\n",
       "      <th>Time_of_Day</th>\n",
       "      <th>Day_of_Week</th>\n",
       "      <th>Passenger_Count</th>\n",
       "      <th>Traffic_Conditions</th>\n",
       "      <th>Weather</th>\n",
       "      <th>Trip_Duration_Minutes</th>\n",
       "      <th>Trip_Price</th>\n",
       "    </tr>\n",
       "  </thead>\n",
       "  <tbody>\n",
       "    <tr>\n",
       "      <th>0</th>\n",
       "      <td>19.35</td>\n",
       "      <td>0.0</td>\n",
       "      <td>0.0</td>\n",
       "      <td>3.0</td>\n",
       "      <td>0.0</td>\n",
       "      <td>0.0</td>\n",
       "      <td>53.82</td>\n",
       "      <td>36.2624</td>\n",
       "    </tr>\n",
       "    <tr>\n",
       "      <th>1</th>\n",
       "      <td>47.59</td>\n",
       "      <td>1.0</td>\n",
       "      <td>0.0</td>\n",
       "      <td>1.0</td>\n",
       "      <td>2.0</td>\n",
       "      <td>0.0</td>\n",
       "      <td>40.57</td>\n",
       "      <td>NaN</td>\n",
       "    </tr>\n",
       "    <tr>\n",
       "      <th>2</th>\n",
       "      <td>36.87</td>\n",
       "      <td>2.0</td>\n",
       "      <td>1.0</td>\n",
       "      <td>1.0</td>\n",
       "      <td>2.0</td>\n",
       "      <td>0.0</td>\n",
       "      <td>37.27</td>\n",
       "      <td>52.9032</td>\n",
       "    </tr>\n",
       "    <tr>\n",
       "      <th>3</th>\n",
       "      <td>30.33</td>\n",
       "      <td>2.0</td>\n",
       "      <td>0.0</td>\n",
       "      <td>4.0</td>\n",
       "      <td>0.0</td>\n",
       "      <td>NaN</td>\n",
       "      <td>116.81</td>\n",
       "      <td>36.4698</td>\n",
       "    </tr>\n",
       "    <tr>\n",
       "      <th>4</th>\n",
       "      <td>NaN</td>\n",
       "      <td>2.0</td>\n",
       "      <td>0.0</td>\n",
       "      <td>3.0</td>\n",
       "      <td>2.0</td>\n",
       "      <td>0.0</td>\n",
       "      <td>22.64</td>\n",
       "      <td>15.6180</td>\n",
       "    </tr>\n",
       "    <tr>\n",
       "      <th>5</th>\n",
       "      <td>8.64</td>\n",
       "      <td>1.0</td>\n",
       "      <td>1.0</td>\n",
       "      <td>2.0</td>\n",
       "      <td>1.0</td>\n",
       "      <td>0.0</td>\n",
       "      <td>89.33</td>\n",
       "      <td>60.2028</td>\n",
       "    </tr>\n",
       "    <tr>\n",
       "      <th>6</th>\n",
       "      <td>3.85</td>\n",
       "      <td>1.0</td>\n",
       "      <td>0.0</td>\n",
       "      <td>4.0</td>\n",
       "      <td>2.0</td>\n",
       "      <td>1.0</td>\n",
       "      <td>5.05</td>\n",
       "      <td>11.2645</td>\n",
       "    </tr>\n",
       "    <tr>\n",
       "      <th>7</th>\n",
       "      <td>43.44</td>\n",
       "      <td>2.0</td>\n",
       "      <td>1.0</td>\n",
       "      <td>3.0</td>\n",
       "      <td>NaN</td>\n",
       "      <td>0.0</td>\n",
       "      <td>NaN</td>\n",
       "      <td>101.1216</td>\n",
       "    </tr>\n",
       "    <tr>\n",
       "      <th>8</th>\n",
       "      <td>30.45</td>\n",
       "      <td>0.0</td>\n",
       "      <td>0.0</td>\n",
       "      <td>3.0</td>\n",
       "      <td>2.0</td>\n",
       "      <td>0.0</td>\n",
       "      <td>110.33</td>\n",
       "      <td>NaN</td>\n",
       "    </tr>\n",
       "    <tr>\n",
       "      <th>9</th>\n",
       "      <td>35.70</td>\n",
       "      <td>1.0</td>\n",
       "      <td>0.0</td>\n",
       "      <td>2.0</td>\n",
       "      <td>0.0</td>\n",
       "      <td>1.0</td>\n",
       "      <td>NaN</td>\n",
       "      <td>75.5657</td>\n",
       "    </tr>\n",
       "  </tbody>\n",
       "</table>\n",
       "</div>"
      ],
      "text/plain": [
       "   Trip_Distance_km  Time_of_Day  Day_of_Week  Passenger_Count  \\\n",
       "0             19.35          0.0          0.0              3.0   \n",
       "1             47.59          1.0          0.0              1.0   \n",
       "2             36.87          2.0          1.0              1.0   \n",
       "3             30.33          2.0          0.0              4.0   \n",
       "4               NaN          2.0          0.0              3.0   \n",
       "5              8.64          1.0          1.0              2.0   \n",
       "6              3.85          1.0          0.0              4.0   \n",
       "7             43.44          2.0          1.0              3.0   \n",
       "8             30.45          0.0          0.0              3.0   \n",
       "9             35.70          1.0          0.0              2.0   \n",
       "\n",
       "   Traffic_Conditions  Weather  Trip_Duration_Minutes  Trip_Price  \n",
       "0                 0.0      0.0                  53.82     36.2624  \n",
       "1                 2.0      0.0                  40.57         NaN  \n",
       "2                 2.0      0.0                  37.27     52.9032  \n",
       "3                 0.0      NaN                 116.81     36.4698  \n",
       "4                 2.0      0.0                  22.64     15.6180  \n",
       "5                 1.0      0.0                  89.33     60.2028  \n",
       "6                 2.0      1.0                   5.05     11.2645  \n",
       "7                 NaN      0.0                    NaN    101.1216  \n",
       "8                 2.0      0.0                 110.33         NaN  \n",
       "9                 0.0      1.0                    NaN     75.5657  "
      ]
     },
     "execution_count": 10,
     "metadata": {},
     "output_type": "execute_result"
    }
   ],
   "source": [
    "Traffic_Conditions_mapper = {\"Low\": 0 , \"Medium\" : 1 , \"High\" : 2}\n",
    "dataFrame['Traffic_Conditions'] = dataFrame['Traffic_Conditions'].replace(Traffic_Conditions_mapper)\n",
    "\n",
    "\n",
    "Time_of_Day_mapper = {\"Morning\": 0 , \"Afternoon\" : 1 , \"Evening\" : 2 , \"Night\" : 3} \n",
    "dataFrame['Time_of_Day'] = dataFrame['Time_of_Day'].replace(Time_of_Day_mapper)\n",
    "\n",
    "Day_of_Week_mapper = {\"Weekday\": 0 , \"Weekend\" : 1} \n",
    "dataFrame['Day_of_Week'] = dataFrame['Day_of_Week'].replace(Day_of_Week_mapper) \n",
    "\n",
    "Weather_mapper = {\"Clear\": 0 , \"Rain\" : 1 , \"Snow\" : 2} \n",
    "dataFrame['Weather'] = dataFrame['Weather'].replace(Weather_mapper) \n",
    "dataFrame.head(10)\n",
    "\n",
    "\n",
    "\n"
   ]
  },
  {
   "cell_type": "code",
   "execution_count": 11,
   "metadata": {},
   "outputs": [
    {
     "data": {
      "text/plain": [
       "Trip_Distance_km         50\n",
       "Time_of_Day              50\n",
       "Day_of_Week              50\n",
       "Passenger_Count          50\n",
       "Traffic_Conditions       50\n",
       "Weather                  50\n",
       "Trip_Duration_Minutes    50\n",
       "Trip_Price               49\n",
       "dtype: int64"
      ]
     },
     "execution_count": 11,
     "metadata": {},
     "output_type": "execute_result"
    }
   ],
   "source": [
    "dataFrame.isnull().sum()"
   ]
  },
  {
   "cell_type": "code",
   "execution_count": 12,
   "metadata": {},
   "outputs": [],
   "source": [
    "dataFrame['Trip_Distance_km'] = dataFrame['Trip_Distance_km'].fillna(dataFrame['Trip_Distance_km'].mean())\n",
    "dataFrame['Trip_Duration_Minutes'] = dataFrame['Trip_Duration_Minutes'].fillna(dataFrame['Trip_Duration_Minutes'].mean())\n",
    "dataFrame['Trip_Price'] = dataFrame['Trip_Price'].fillna(dataFrame['Trip_Price'].mean())\n",
    "dataFrame['Traffic_Conditions'] = dataFrame['Traffic_Conditions'].apply(\n",
    "    lambda x: np.random.choice([0, 1, 2]) if np.isnan(x) else x\n",
    ")\n",
    "dataFrame['Passenger_Count'] = dataFrame['Passenger_Count'].apply(\n",
    "    lambda x: np.random.choice([1, 2, 3, 4]) if np.isnan(x) else x\n",
    ")\n",
    "\n",
    "dataFrame['Time_of_Day'] = dataFrame['Time_of_Day'].apply(\n",
    "    lambda x: np.random.choice([0, 1, 2, 3]) if np.isnan(x) else x\n",
    ")\n",
    "dataFrame['Day_of_Week'] = dataFrame['Day_of_Week'].apply(\n",
    "    lambda x: np.random.choice([0, 1]) if np.isnan(x) else x\n",
    ")\n",
    "dataFrame['Weather'] = dataFrame['Weather'].apply(\n",
    "    lambda x: np.random.choice([0, 1, 2]) if np.isnan(x) else x\n",
    ")\n",
    "\n"
   ]
  },
  {
   "cell_type": "code",
   "execution_count": 13,
   "metadata": {},
   "outputs": [
    {
     "data": {
      "text/plain": [
       "Trip_Distance_km         0\n",
       "Time_of_Day              0\n",
       "Day_of_Week              0\n",
       "Passenger_Count          0\n",
       "Traffic_Conditions       0\n",
       "Weather                  0\n",
       "Trip_Duration_Minutes    0\n",
       "Trip_Price               0\n",
       "dtype: int64"
      ]
     },
     "execution_count": 13,
     "metadata": {},
     "output_type": "execute_result"
    }
   ],
   "source": [
    "dataFrame.isnull().sum() "
   ]
  },
  {
   "cell_type": "code",
   "execution_count": 14,
   "metadata": {},
   "outputs": [
    {
     "data": {
      "text/html": [
       "<div>\n",
       "<style scoped>\n",
       "    .dataframe tbody tr th:only-of-type {\n",
       "        vertical-align: middle;\n",
       "    }\n",
       "\n",
       "    .dataframe tbody tr th {\n",
       "        vertical-align: top;\n",
       "    }\n",
       "\n",
       "    .dataframe thead th {\n",
       "        text-align: right;\n",
       "    }\n",
       "</style>\n",
       "<table border=\"1\" class=\"dataframe\">\n",
       "  <thead>\n",
       "    <tr style=\"text-align: right;\">\n",
       "      <th></th>\n",
       "      <th>Trip_Distance_km</th>\n",
       "      <th>Time_of_Day</th>\n",
       "      <th>Day_of_Week</th>\n",
       "      <th>Passenger_Count</th>\n",
       "      <th>Traffic_Conditions</th>\n",
       "      <th>Weather</th>\n",
       "      <th>Trip_Duration_Minutes</th>\n",
       "      <th>Trip_Price</th>\n",
       "    </tr>\n",
       "  </thead>\n",
       "  <tbody>\n",
       "    <tr>\n",
       "      <th>0</th>\n",
       "      <td>19.350000</td>\n",
       "      <td>0.0</td>\n",
       "      <td>0.0</td>\n",
       "      <td>3.0</td>\n",
       "      <td>0.0</td>\n",
       "      <td>0.0</td>\n",
       "      <td>53.820000</td>\n",
       "      <td>36.262400</td>\n",
       "    </tr>\n",
       "    <tr>\n",
       "      <th>1</th>\n",
       "      <td>47.590000</td>\n",
       "      <td>1.0</td>\n",
       "      <td>0.0</td>\n",
       "      <td>1.0</td>\n",
       "      <td>2.0</td>\n",
       "      <td>0.0</td>\n",
       "      <td>40.570000</td>\n",
       "      <td>56.874773</td>\n",
       "    </tr>\n",
       "    <tr>\n",
       "      <th>2</th>\n",
       "      <td>36.870000</td>\n",
       "      <td>2.0</td>\n",
       "      <td>1.0</td>\n",
       "      <td>1.0</td>\n",
       "      <td>2.0</td>\n",
       "      <td>0.0</td>\n",
       "      <td>37.270000</td>\n",
       "      <td>52.903200</td>\n",
       "    </tr>\n",
       "    <tr>\n",
       "      <th>3</th>\n",
       "      <td>30.330000</td>\n",
       "      <td>2.0</td>\n",
       "      <td>0.0</td>\n",
       "      <td>4.0</td>\n",
       "      <td>0.0</td>\n",
       "      <td>1.0</td>\n",
       "      <td>116.810000</td>\n",
       "      <td>36.469800</td>\n",
       "    </tr>\n",
       "    <tr>\n",
       "      <th>4</th>\n",
       "      <td>27.070547</td>\n",
       "      <td>2.0</td>\n",
       "      <td>0.0</td>\n",
       "      <td>3.0</td>\n",
       "      <td>2.0</td>\n",
       "      <td>0.0</td>\n",
       "      <td>22.640000</td>\n",
       "      <td>15.618000</td>\n",
       "    </tr>\n",
       "    <tr>\n",
       "      <th>5</th>\n",
       "      <td>8.640000</td>\n",
       "      <td>1.0</td>\n",
       "      <td>1.0</td>\n",
       "      <td>2.0</td>\n",
       "      <td>1.0</td>\n",
       "      <td>0.0</td>\n",
       "      <td>89.330000</td>\n",
       "      <td>60.202800</td>\n",
       "    </tr>\n",
       "    <tr>\n",
       "      <th>6</th>\n",
       "      <td>3.850000</td>\n",
       "      <td>1.0</td>\n",
       "      <td>0.0</td>\n",
       "      <td>4.0</td>\n",
       "      <td>2.0</td>\n",
       "      <td>1.0</td>\n",
       "      <td>5.050000</td>\n",
       "      <td>11.264500</td>\n",
       "    </tr>\n",
       "    <tr>\n",
       "      <th>7</th>\n",
       "      <td>43.440000</td>\n",
       "      <td>2.0</td>\n",
       "      <td>1.0</td>\n",
       "      <td>3.0</td>\n",
       "      <td>0.0</td>\n",
       "      <td>0.0</td>\n",
       "      <td>62.118116</td>\n",
       "      <td>101.121600</td>\n",
       "    </tr>\n",
       "    <tr>\n",
       "      <th>8</th>\n",
       "      <td>30.450000</td>\n",
       "      <td>0.0</td>\n",
       "      <td>0.0</td>\n",
       "      <td>3.0</td>\n",
       "      <td>2.0</td>\n",
       "      <td>0.0</td>\n",
       "      <td>110.330000</td>\n",
       "      <td>56.874773</td>\n",
       "    </tr>\n",
       "    <tr>\n",
       "      <th>9</th>\n",
       "      <td>35.700000</td>\n",
       "      <td>1.0</td>\n",
       "      <td>0.0</td>\n",
       "      <td>2.0</td>\n",
       "      <td>0.0</td>\n",
       "      <td>1.0</td>\n",
       "      <td>62.118116</td>\n",
       "      <td>75.565700</td>\n",
       "    </tr>\n",
       "    <tr>\n",
       "      <th>10</th>\n",
       "      <td>27.070547</td>\n",
       "      <td>0.0</td>\n",
       "      <td>0.0</td>\n",
       "      <td>4.0</td>\n",
       "      <td>0.0</td>\n",
       "      <td>0.0</td>\n",
       "      <td>26.340000</td>\n",
       "      <td>14.892000</td>\n",
       "    </tr>\n",
       "    <tr>\n",
       "      <th>11</th>\n",
       "      <td>48.530000</td>\n",
       "      <td>3.0</td>\n",
       "      <td>0.0</td>\n",
       "      <td>3.0</td>\n",
       "      <td>0.0</td>\n",
       "      <td>0.0</td>\n",
       "      <td>79.940000</td>\n",
       "      <td>56.874773</td>\n",
       "    </tr>\n",
       "    <tr>\n",
       "      <th>12</th>\n",
       "      <td>41.790000</td>\n",
       "      <td>3.0</td>\n",
       "      <td>1.0</td>\n",
       "      <td>3.0</td>\n",
       "      <td>2.0</td>\n",
       "      <td>0.0</td>\n",
       "      <td>86.950000</td>\n",
       "      <td>88.132800</td>\n",
       "    </tr>\n",
       "    <tr>\n",
       "      <th>13</th>\n",
       "      <td>11.400000</td>\n",
       "      <td>0.0</td>\n",
       "      <td>0.0</td>\n",
       "      <td>3.0</td>\n",
       "      <td>0.0</td>\n",
       "      <td>0.0</td>\n",
       "      <td>84.120000</td>\n",
       "      <td>36.118000</td>\n",
       "    </tr>\n",
       "    <tr>\n",
       "      <th>14</th>\n",
       "      <td>9.910000</td>\n",
       "      <td>2.0</td>\n",
       "      <td>0.0</td>\n",
       "      <td>2.0</td>\n",
       "      <td>2.0</td>\n",
       "      <td>0.0</td>\n",
       "      <td>41.720000</td>\n",
       "      <td>28.991400</td>\n",
       "    </tr>\n",
       "    <tr>\n",
       "      <th>15</th>\n",
       "      <td>9.990000</td>\n",
       "      <td>3.0</td>\n",
       "      <td>0.0</td>\n",
       "      <td>4.0</td>\n",
       "      <td>2.0</td>\n",
       "      <td>0.0</td>\n",
       "      <td>34.000000</td>\n",
       "      <td>27.441500</td>\n",
       "    </tr>\n",
       "    <tr>\n",
       "      <th>16</th>\n",
       "      <td>15.910000</td>\n",
       "      <td>0.0</td>\n",
       "      <td>0.0</td>\n",
       "      <td>4.0</td>\n",
       "      <td>0.0</td>\n",
       "      <td>0.0</td>\n",
       "      <td>114.930000</td>\n",
       "      <td>56.716000</td>\n",
       "    </tr>\n",
       "    <tr>\n",
       "      <th>17</th>\n",
       "      <td>26.710000</td>\n",
       "      <td>1.0</td>\n",
       "      <td>1.0</td>\n",
       "      <td>4.0</td>\n",
       "      <td>0.0</td>\n",
       "      <td>1.0</td>\n",
       "      <td>111.180000</td>\n",
       "      <td>69.004900</td>\n",
       "    </tr>\n",
       "    <tr>\n",
       "      <th>18</th>\n",
       "      <td>22.170000</td>\n",
       "      <td>3.0</td>\n",
       "      <td>0.0</td>\n",
       "      <td>4.0</td>\n",
       "      <td>0.0</td>\n",
       "      <td>0.0</td>\n",
       "      <td>57.590000</td>\n",
       "      <td>69.626800</td>\n",
       "    </tr>\n",
       "    <tr>\n",
       "      <th>19</th>\n",
       "      <td>15.270000</td>\n",
       "      <td>0.0</td>\n",
       "      <td>0.0</td>\n",
       "      <td>3.0</td>\n",
       "      <td>0.0</td>\n",
       "      <td>0.0</td>\n",
       "      <td>62.118116</td>\n",
       "      <td>27.354300</td>\n",
       "    </tr>\n",
       "  </tbody>\n",
       "</table>\n",
       "</div>"
      ],
      "text/plain": [
       "    Trip_Distance_km  Time_of_Day  Day_of_Week  Passenger_Count  \\\n",
       "0          19.350000          0.0          0.0              3.0   \n",
       "1          47.590000          1.0          0.0              1.0   \n",
       "2          36.870000          2.0          1.0              1.0   \n",
       "3          30.330000          2.0          0.0              4.0   \n",
       "4          27.070547          2.0          0.0              3.0   \n",
       "5           8.640000          1.0          1.0              2.0   \n",
       "6           3.850000          1.0          0.0              4.0   \n",
       "7          43.440000          2.0          1.0              3.0   \n",
       "8          30.450000          0.0          0.0              3.0   \n",
       "9          35.700000          1.0          0.0              2.0   \n",
       "10         27.070547          0.0          0.0              4.0   \n",
       "11         48.530000          3.0          0.0              3.0   \n",
       "12         41.790000          3.0          1.0              3.0   \n",
       "13         11.400000          0.0          0.0              3.0   \n",
       "14          9.910000          2.0          0.0              2.0   \n",
       "15          9.990000          3.0          0.0              4.0   \n",
       "16         15.910000          0.0          0.0              4.0   \n",
       "17         26.710000          1.0          1.0              4.0   \n",
       "18         22.170000          3.0          0.0              4.0   \n",
       "19         15.270000          0.0          0.0              3.0   \n",
       "\n",
       "    Traffic_Conditions  Weather  Trip_Duration_Minutes  Trip_Price  \n",
       "0                  0.0      0.0              53.820000   36.262400  \n",
       "1                  2.0      0.0              40.570000   56.874773  \n",
       "2                  2.0      0.0              37.270000   52.903200  \n",
       "3                  0.0      1.0             116.810000   36.469800  \n",
       "4                  2.0      0.0              22.640000   15.618000  \n",
       "5                  1.0      0.0              89.330000   60.202800  \n",
       "6                  2.0      1.0               5.050000   11.264500  \n",
       "7                  0.0      0.0              62.118116  101.121600  \n",
       "8                  2.0      0.0             110.330000   56.874773  \n",
       "9                  0.0      1.0              62.118116   75.565700  \n",
       "10                 0.0      0.0              26.340000   14.892000  \n",
       "11                 0.0      0.0              79.940000   56.874773  \n",
       "12                 2.0      0.0              86.950000   88.132800  \n",
       "13                 0.0      0.0              84.120000   36.118000  \n",
       "14                 2.0      0.0              41.720000   28.991400  \n",
       "15                 2.0      0.0              34.000000   27.441500  \n",
       "16                 0.0      0.0             114.930000   56.716000  \n",
       "17                 0.0      1.0             111.180000   69.004900  \n",
       "18                 0.0      0.0              57.590000   69.626800  \n",
       "19                 0.0      0.0              62.118116   27.354300  "
      ]
     },
     "execution_count": 14,
     "metadata": {},
     "output_type": "execute_result"
    }
   ],
   "source": [
    "dataFrame.head(20)"
   ]
  },
  {
   "cell_type": "code",
   "execution_count": 15,
   "metadata": {},
   "outputs": [
    {
     "name": "stdout",
     "output_type": "stream",
     "text": [
      "Correlation between Trip_Distance_km          and Trip_Price: 0.8296848519933564  \n",
      "Correlation between Time_of_Day               and Trip_Price: -0.0029538193211499277\n",
      "Correlation between Day_of_Week               and Trip_Price: -0.04025622005510031\n",
      "Correlation between Passenger_Count           and Trip_Price: -0.011876744027967902\n",
      "Correlation between Traffic_Conditions        and Trip_Price: 0.06730362492555397 \n",
      "Correlation between Weather                   and Trip_Price: 0.03854690588837536 \n",
      "Correlation between Trip_Duration_Minutes     and Trip_Price: 0.21514407367822894 \n",
      "Correlation between Trip_Price                and Trip_Price: 1.0                 \n"
     ]
    }
   ],
   "source": [
    "numerical_columns = dataFrame.select_dtypes(include=[\"int64\", \"float64\"]).columns\n",
    "for column in numerical_columns:\n",
    "    correlation = dataFrame[column].corr(dataFrame['Trip_Price'])\n",
    "    print(f\"Correlation between {column:<25} and Trip_Price: {correlation:<20}\")"
   ]
  },
  {
   "cell_type": "code",
   "execution_count": 16,
   "metadata": {},
   "outputs": [
    {
     "data": {
      "text/plain": [
       "Traffic_Conditions\n",
       "0.0    423\n",
       "1.0    385\n",
       "2.0    192\n",
       "Name: count, dtype: int64"
      ]
     },
     "execution_count": 16,
     "metadata": {},
     "output_type": "execute_result"
    }
   ],
   "source": [
    "dataFrame['Traffic_Conditions'].value_counts()\n"
   ]
  },
  {
   "cell_type": "code",
   "execution_count": 17,
   "metadata": {},
   "outputs": [
    {
     "data": {
      "text/plain": [
       "Passenger_Count\n",
       "3.0    264\n",
       "2.0    253\n",
       "1.0    251\n",
       "4.0    232\n",
       "Name: count, dtype: int64"
      ]
     },
     "execution_count": 17,
     "metadata": {},
     "output_type": "execute_result"
    }
   ],
   "source": [
    "dataFrame['Passenger_Count'].value_counts()"
   ]
  },
  {
   "cell_type": "code",
   "execution_count": 18,
   "metadata": {},
   "outputs": [
    {
     "data": {
      "text/plain": [
       "Time_of_Day\n",
       "1.0    387\n",
       "0.0    293\n",
       "2.0    211\n",
       "3.0    109\n",
       "Name: count, dtype: int64"
      ]
     },
     "execution_count": 18,
     "metadata": {},
     "output_type": "execute_result"
    }
   ],
   "source": [
    "dataFrame['Time_of_Day'].value_counts()"
   ]
  },
  {
   "cell_type": "code",
   "execution_count": 19,
   "metadata": {},
   "outputs": [
    {
     "data": {
      "text/plain": [
       "Weather\n",
       "0.0    683\n",
       "1.0    249\n",
       "2.0     68\n",
       "Name: count, dtype: int64"
      ]
     },
     "execution_count": 19,
     "metadata": {},
     "output_type": "execute_result"
    }
   ],
   "source": [
    "dataFrame['Weather'].value_counts()"
   ]
  },
  {
   "cell_type": "code",
   "execution_count": 20,
   "metadata": {},
   "outputs": [
    {
     "data": {
      "text/plain": [
       "Day_of_Week\n",
       "0.0    679\n",
       "1.0    321\n",
       "Name: count, dtype: int64"
      ]
     },
     "execution_count": 20,
     "metadata": {},
     "output_type": "execute_result"
    }
   ],
   "source": [
    "dataFrame['Day_of_Week'].value_counts()"
   ]
  },
  {
   "cell_type": "code",
   "execution_count": 21,
   "metadata": {},
   "outputs": [
    {
     "name": "stdout",
     "output_type": "stream",
     "text": [
      "<class 'pandas.core.frame.DataFrame'>\n",
      "RangeIndex: 1000 entries, 0 to 999\n",
      "Data columns (total 8 columns):\n",
      " #   Column                 Non-Null Count  Dtype  \n",
      "---  ------                 --------------  -----  \n",
      " 0   Trip_Distance_km       1000 non-null   float64\n",
      " 1   Time_of_Day            1000 non-null   float64\n",
      " 2   Day_of_Week            1000 non-null   float64\n",
      " 3   Passenger_Count        1000 non-null   float64\n",
      " 4   Traffic_Conditions     1000 non-null   float64\n",
      " 5   Weather                1000 non-null   float64\n",
      " 6   Trip_Duration_Minutes  1000 non-null   float64\n",
      " 7   Trip_Price             1000 non-null   float64\n",
      "dtypes: float64(8)\n",
      "memory usage: 62.6 KB\n"
     ]
    }
   ],
   "source": [
    "dataFrame.info()"
   ]
  },
  {
   "cell_type": "code",
   "execution_count": 22,
   "metadata": {},
   "outputs": [],
   "source": [
    "features = dataFrame.iloc[:,:-1]\n",
    "dependentVariable = dataFrame.iloc[:,-1]"
   ]
  },
  {
   "cell_type": "code",
   "execution_count": 23,
   "metadata": {},
   "outputs": [],
   "source": [
    "standardScalar = StandardScaler()\n",
    "features = standardScalar.fit_transform(features)"
   ]
  },
  {
   "cell_type": "code",
   "execution_count": 24,
   "metadata": {},
   "outputs": [],
   "source": [
    "featuresTrain, featuresTest, dependentVariableTrain, dependentVariableTest = train_test_split(features, dependentVariable , test_size=0.2, random_state=200)"
   ]
  },
  {
   "cell_type": "code",
   "execution_count": 25,
   "metadata": {},
   "outputs": [
    {
     "data": {
      "text/plain": [
       "array([[ 7.25563435e-01,  9.00046879e-01,  1.45439499e+00, ...,\n",
       "         3.08235994e-01,  1.00728351e+00, -4.89664262e-01],\n",
       "       [ 5.13004537e+00, -1.41674046e-01,  1.45439499e+00, ...,\n",
       "        -1.02611896e+00,  2.64514289e+00, -1.04770747e+00],\n",
       "       [ 1.10511954e+00, -1.18339497e+00, -6.87571124e-01, ...,\n",
       "        -1.02611896e+00, -6.30575859e-01,  2.26838413e-16],\n",
       "       ...,\n",
       "       [-8.85487221e-01, -1.41674046e-01,  1.45439499e+00, ...,\n",
       "         3.08235994e-01, -6.30575859e-01,  1.28375107e+00],\n",
       "       [-6.44654745e-01, -1.41674046e-01, -6.87571124e-01, ...,\n",
       "         3.08235994e-01, -6.30575859e-01,  1.79646125e+00],\n",
       "       [-1.29856391e+00, -1.18339497e+00, -6.87571124e-01, ...,\n",
       "        -1.02611896e+00,  2.64514289e+00,  1.65950442e+00]],\n",
       "      shape=(800, 7))"
      ]
     },
     "execution_count": 25,
     "metadata": {},
     "output_type": "execute_result"
    }
   ],
   "source": [
    "featuresTrain"
   ]
  },
  {
   "cell_type": "code",
   "execution_count": 26,
   "metadata": {},
   "outputs": [
    {
     "data": {
      "text/plain": [
       "array([[-0.30738614,  0.90004688,  1.45439499, ...,  1.64259094,\n",
       "        -0.63057586, -0.81784985],\n",
       "       [-0.10007424, -1.18339497,  1.45439499, ...,  0.30823599,\n",
       "         1.00728351, -0.15605148],\n",
       "       [-0.39196114, -0.14167405, -0.68757112, ..., -1.02611896,\n",
       "        -0.63057586,  0.70974553],\n",
       "       ...,\n",
       "       [-0.26045733, -1.18339497, -0.68757112, ...,  1.64259094,\n",
       "        -0.63057586,  0.30079053],\n",
       "       [ 0.27896617,  0.90004688, -0.68757112, ..., -1.02611896,\n",
       "        -0.63057586, -1.36695415],\n",
       "       [-0.47086343, -1.18339497, -0.68757112, ...,  1.64259094,\n",
       "        -0.63057586,  0.75444007]], shape=(200, 7))"
      ]
     },
     "execution_count": 26,
     "metadata": {},
     "output_type": "execute_result"
    }
   ],
   "source": [
    "featuresTest"
   ]
  },
  {
   "cell_type": "code",
   "execution_count": 27,
   "metadata": {},
   "outputs": [
    {
     "data": {
      "text/plain": [
       "989     82.442000\n",
       "835    224.914663\n",
       "678     50.731200\n",
       "177     56.874773\n",
       "410    206.508652\n",
       "          ...    \n",
       "810    109.430400\n",
       "836     65.947900\n",
       "784     45.431200\n",
       "617     37.390000\n",
       "794     52.779600\n",
       "Name: Trip_Price, Length: 800, dtype: float64"
      ]
     },
     "execution_count": 27,
     "metadata": {},
     "output_type": "execute_result"
    }
   ],
   "source": [
    "dependentVariableTrain"
   ]
  },
  {
   "cell_type": "code",
   "execution_count": 28,
   "metadata": {},
   "outputs": [
    {
     "data": {
      "text/plain": [
       "674    30.401500\n",
       "233    53.279200\n",
       "739    40.566500\n",
       "865    59.742100\n",
       "523    84.155800\n",
       "         ...    \n",
       "931    63.777700\n",
       "871    56.874773\n",
       "397    56.874773\n",
       "355    41.656200\n",
       "593    58.086100\n",
       "Name: Trip_Price, Length: 200, dtype: float64"
      ]
     },
     "execution_count": 28,
     "metadata": {},
     "output_type": "execute_result"
    }
   ],
   "source": [
    "dependentVariableTest"
   ]
  },
  {
   "cell_type": "code",
   "execution_count": 29,
   "metadata": {},
   "outputs": [],
   "source": [
    "model = LinearRegression()\n",
    "model.fit(featuresTrain, dependentVariableTrain)\n",
    "predections = model.predict(featuresTest)"
   ]
  },
  {
   "cell_type": "code",
   "execution_count": 30,
   "metadata": {},
   "outputs": [
    {
     "name": "stdout",
     "output_type": "stream",
     "text": [
      "The accuracy is 79.0%\n"
     ]
    }
   ],
   "source": [
    "rSquaredScore = r2_score(dependentVariableTest, predections)\n",
    "print(\"The accuracy is {}%\".format(round(rSquaredScore, 2) * 100))\n",
    "\n"
   ]
  },
  {
   "cell_type": "code",
   "execution_count": 31,
   "metadata": {},
   "outputs": [
    {
     "name": "stdout",
     "output_type": "stream",
     "text": [
      "         Actual   Predicted\n",
      "674   30.401500   39.207361\n",
      "233   53.279200   54.972077\n",
      "739   40.566500   50.108024\n",
      "865   59.742100   60.378115\n",
      "523   84.155800   75.700383\n",
      "726   28.723500   22.021316\n",
      "473   61.094000   72.883265\n",
      "501   47.996000   58.101198\n",
      "570   61.228700   69.884410\n",
      "346   86.897700   80.252147\n",
      "221   63.953400   66.524568\n",
      "207   56.874773   68.480450\n",
      "256   92.683200   80.775721\n",
      "588  247.598318  202.087253\n",
      "74    36.438800   82.528168\n",
      "404   26.117600   60.116723\n",
      "632   56.874773   54.239063\n",
      "294   33.749100   20.778147\n",
      "659   65.195000   55.949037\n",
      "136   75.220400   64.241401\n"
     ]
    }
   ],
   "source": [
    "results = pd.DataFrame({\n",
    "    \"Actual\": dependentVariableTest,\n",
    "    \"Predicted\": predections\n",
    "})\n",
    "print(results.head(20))"
   ]
  },
  {
   "cell_type": "code",
   "execution_count": 32,
   "metadata": {},
   "outputs": [
    {
     "data": {
      "image/png": "[encoded data removed]",
      "text/plain": [
       "<Figure size 640x480 with 1 Axes>"
      ]
     },
     "metadata": {},
     "output_type": "display_data"
    }
   ],
   "source": [
    "import matplotlib.pyplot as plt\n",
    "\n",
    "plt.scatter(dependentVariableTest, predections, alpha=1)\n",
    "plt.xlabel(\"Actual Values\")\n",
    "plt.ylabel(\"Predicted Values\")\n",
    "plt.title(\"Predicted vs Actual\")\n",
    "plt.show()"
   ]
  },
  {
   "cell_type": "code",
   "execution_count": 33,
   "metadata": {},
   "outputs": [
    {
     "ename": "ValueError",
     "evalue": "could not convert string to float: ''",
     "output_type": "error",
     "traceback": [
      "\u001b[1;31m---------------------------------------------------------------------------\u001b[0m",
      "\u001b[1;31mValueError\u001b[0m                                Traceback (most recent call last)",
      "Cell \u001b[1;32mIn[33], line 1\u001b[0m\n\u001b[1;32m----> 1\u001b[0m trip_distance \u001b[38;5;241m=\u001b[39m \u001b[38;5;28;43mfloat\u001b[39;49m\u001b[43m(\u001b[49m\u001b[38;5;28;43minput\u001b[39;49m\u001b[43m(\u001b[49m\u001b[38;5;124;43m\"\u001b[39;49m\u001b[38;5;124;43mEnter the Trip Distance (in km): \u001b[39;49m\u001b[38;5;124;43m\"\u001b[39;49m\u001b[43m)\u001b[49m\u001b[43m)\u001b[49m\n\u001b[0;32m      2\u001b[0m time_of_day \u001b[38;5;241m=\u001b[39m \u001b[38;5;28mfloat\u001b[39m(\u001b[38;5;28minput\u001b[39m(\u001b[38;5;124m\"\u001b[39m\u001b[38;5;124mEnter the Time of Day : 0 : Morning , 1 : Afternoon , 2 : Evening , 3 : Night: \u001b[39m\u001b[38;5;124m\"\u001b[39m))\n\u001b[0;32m      3\u001b[0m day_of_week \u001b[38;5;241m=\u001b[39m \u001b[38;5;28mint\u001b[39m(\u001b[38;5;28minput\u001b[39m(\u001b[38;5;124m\"\u001b[39m\u001b[38;5;124mEnter the Day of Week : 0 : Weekday , 1 : Weekend: \u001b[39m\u001b[38;5;124m\"\u001b[39m))\n",
      "\u001b[1;31mValueError\u001b[0m: could not convert string to float: ''"
     ]
    }
   ],
   "source": [
    "trip_distance = float(input(\"Enter the Trip Distance (in km): \"))\n",
    "time_of_day = float(input(\"Enter the Time of Day : 0 : Morning , 1 : Afternoon , 2 : Evening , 3 : Night: \"))\n",
    "day_of_week = int(input(\"Enter the Day of Week : 0 : Weekday , 1 : Weekend: \"))\n",
    "passenger_count = int(input(\"Enter the Passenger Count: 0 : 1 , 1 : 2 , 2 : 3 , 3 : 4: \"))\n",
    "traffic_conditions = float(input(\"Enter the Traffic Conditions , 0 : Low , 1 : Medium , 2 : High: \"))\n",
    "weather = float(input(\"Enter the Weather condition , 0 : Clear , 1 : Rain , 2 : Snow: \"))\n",
    "trip_duration = float(input(\"Enter the Trip Duration could be flout : \"))\n",
    "user_input = [[trip_distance, time_of_day, day_of_week, passenger_count, traffic_conditions, weather, trip_duration]]\n",
    "user_input_scaled = standardScalar.transform(user_input)\n",
    "prediction = model.predict(user_input_scaled)\n",
    "print(f\"The predicted Trip Price (or your dependent variable) is: {prediction[0]}\")\n",
    "\n",
    "\n"
   ]
  },
  {
   "cell_type": "markdown",
   "metadata": {},
   "source": [
    "{\n",
    "  \"Trip_Distance_km\": 19.35,\n",
    "  \"Time_of_Day\": 0.0,\n",
    "  \"Day_of_Week\": 0,\n",
    "  \"Passenger_Count\": 3,\n",
    "  \"Traffic_Conditions\": 0.0,\n",
    "  \"Weather\": 0.0,\n",
    "  \"Trip_Duration_Minutes\": 53.82\n",
    "}"
   ]
  },
  {
   "cell_type": "code",
   "execution_count": 34,
   "metadata": {},
   "outputs": [
    {
     "data": {
      "text/plain": [
       "['model2.pkl']"
      ]
     },
     "execution_count": 34,
     "metadata": {},
     "output_type": "execute_result"
    }
   ],
   "source": [
    "import joblib\n",
    "joblib.dump(model, 'model2.pkl',compress=3)  # Save the trained model\n"
   ]
  },
  {
   "cell_type": "code",
   "execution_count": null,
   "metadata": {},
   "outputs": [],
   "source": [
    "from joblib import load\n",
    "model = load(\"model.pkl\")\n",
    "Scaled_Data = [[19.35 , 0 , 0 , 2 , 0 , 0, 53.82]]\n",
    "user_input_scaled = standardScalar.transform(Scaled_Data)\n",
    "prediction = model.predict(user_input_scaled)\n",
    "#joblib.dump(standardScalar, \"scaler2.pkl\")\n",
    "print(prediction)"
   ]
  },
  {
   "cell_type": "code",
   "execution_count": null,
   "metadata": {},
   "outputs": [],
   "source": [
    "for column in dataFrame.columns:\n",
    "  print(column)"
   ]
  }
 ],
 "metadata": {
  "kernelspec": {
   "display_name": "Python 3",
   "language": "python",
   "name": "python3"
  },
  "language_info": {
   "codemirror_mode": {
    "name": "ipython",
    "version": 3
   },
   "file_extension": ".py",
   "mimetype": "text/x-python",
   "name": "python",
   "nbconvert_exporter": "python",
   "pygments_lexer": "ipython3",
   "version": "3.12.6"
  }
 },
 "nbformat": 4,
 "nbformat_minor": 2
}
