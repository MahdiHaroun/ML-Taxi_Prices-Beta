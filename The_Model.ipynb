{
 "cells": [
  {
   "cell_type": "markdown",
   "metadata": {},
   "source": [
    "**Packeges Imports**"
   ]
  },
  {
   "cell_type": "code",
   "execution_count": 1,
   "metadata": {},
   "outputs": [],
   "source": [
    "import pandas as pd\n",
    "import numpy as np\n",
    "import seaborn as sns\n",
    "import matplotlib.pyplot as plt\n",
    "plt.style.use('dark_background')\n",
    "from sklearn.model_selection import train_test_split\n",
    "from sklearn.linear_model import LinearRegression\n",
    "from sklearn.metrics import r2_score\n",
    "from sklearn.preprocessing import StandardScaler\n"
   ]
  },
  {
   "cell_type": "markdown",
   "metadata": {},
   "source": [
    "**Load CSV DATA**"
   ]
  },
  {
   "cell_type": "code",
   "execution_count": 2,
   "metadata": {},
   "outputs": [],
   "source": [
    "dataFrame = pd.read_csv('taxi_trip_pricing.csv')"
   ]
  },
  {
   "cell_type": "markdown",
   "metadata": {},
   "source": [
    "**Load Columns**"
   ]
  },
  {
   "cell_type": "code",
   "execution_count": null,
   "metadata": {},
   "outputs": [],
   "source": [
    "for column in dataFrame.columns:\n",
    "  print(column)"
   ]
  },
  {
   "cell_type": "markdown",
   "metadata": {},
   "source": [
    "**Droping unnecessary Columns**"
   ]
  },
  {
   "cell_type": "code",
   "execution_count": 4,
   "metadata": {},
   "outputs": [],
   "source": [
    "dataFrame.drop(['Base_Fare','Per_Km_Rate','Per_Minute_Rate'] , axis = 1 , inplace = True)"
   ]
  },
  {
   "cell_type": "code",
   "execution_count": null,
   "metadata": {},
   "outputs": [],
   "source": [
    "for column in dataFrame.columns:\n",
    "  print(column)"
   ]
  },
  {
   "cell_type": "code",
   "execution_count": null,
   "metadata": {},
   "outputs": [],
   "source": [
    "dataFrame.head(10)"
   ]
  },
  {
   "cell_type": "markdown",
   "metadata": {},
   "source": [
    "**Encodin Ordinal Data**"
   ]
  },
  {
   "cell_type": "code",
   "execution_count": null,
   "metadata": {},
   "outputs": [],
   "source": [
    "Traffic_Conditions_mapper = {\"Low\": 0 , \"Medium\" : 1 , \"High\" : 2}\n",
    "dataFrame['Traffic_Conditions'] = dataFrame['Traffic_Conditions'].replace(Traffic_Conditions_mapper)\n",
    "\n",
    "\n",
    "Time_of_Day_mapper = {\"Morning\": 0 , \"Afternoon\" : 1 , \"Evening\" : 2 , \"Night\" : 3} \n",
    "dataFrame['Time_of_Day'] = dataFrame['Time_of_Day'].replace(Time_of_Day_mapper)\n",
    "\n",
    "Day_of_Week_mapper = {\"Weekday\": 0 , \"Weekend\" : 1} \n",
    "dataFrame['Day_of_Week'] = dataFrame['Day_of_Week'].replace(Day_of_Week_mapper) \n",
    "\n",
    "Weather_mapper = {\"Clear\": 0 , \"Rain\" : 1 , \"Snow\" : 2} \n",
    "dataFrame['Weather'] = dataFrame['Weather'].replace(Weather_mapper) \n",
    "dataFrame.head(10)\n",
    "\n",
    "\n",
    "\n"
   ]
  },
  {
   "cell_type": "markdown",
   "metadata": {},
   "source": [
    "**Num of Null Values**"
   ]
  },
  {
   "cell_type": "code",
   "execution_count": null,
   "metadata": {},
   "outputs": [],
   "source": [
    "dataFrame.isnull().sum()"
   ]
  },
  {
   "cell_type": "markdown",
   "metadata": {},
   "source": [
    "**Filling Null Data**"
   ]
  },
  {
   "cell_type": "code",
   "execution_count": 9,
   "metadata": {},
   "outputs": [],
   "source": [
    "dataFrame['Trip_Distance_km'] = dataFrame['Trip_Distance_km'].fillna(dataFrame['Trip_Distance_km'].mean())\n",
    "dataFrame['Trip_Duration_Minutes'] = dataFrame['Trip_Duration_Minutes'].fillna(dataFrame['Trip_Duration_Minutes'].mean())\n",
    "dataFrame['Trip_Price'] = dataFrame['Trip_Price'].fillna(dataFrame['Trip_Price'].mean())\n",
    "\n",
    "\n",
    "dataFrame['Traffic_Conditions'] = dataFrame['Traffic_Conditions'].apply(\n",
    "    lambda x: np.random.choice([0, 1, 2]) if np.isnan(x) else x \n",
    ")\n",
    "dataFrame['Passenger_Count'] = dataFrame['Passenger_Count'].apply(\n",
    "    lambda x: np.random.choice([1, 2, 3, 4]) if np.isnan(x) else x\n",
    ")\n",
    "\n",
    "dataFrame['Time_of_Day'] = dataFrame['Time_of_Day'].apply(\n",
    "    lambda x: np.random.choice([0, 1, 2, 3]) if np.isnan(x) else x\n",
    ")\n",
    "dataFrame['Day_of_Week'] = dataFrame['Day_of_Week'].apply(\n",
    "    lambda x: np.random.choice([0, 1]) if np.isnan(x) else x\n",
    ")\n",
    "dataFrame['Weather'] = dataFrame['Weather'].apply(\n",
    "    lambda x: np.random.choice([0, 1, 2]) if np.isnan(x) else x\n",
    ")\n",
    "\n"
   ]
  },
  {
   "cell_type": "code",
   "execution_count": null,
   "metadata": {},
   "outputs": [],
   "source": [
    "dataFrame.isnull().sum() "
   ]
  },
  {
   "cell_type": "code",
   "execution_count": null,
   "metadata": {},
   "outputs": [],
   "source": [
    "dataFrame.head(20)"
   ]
  },
  {
   "cell_type": "markdown",
   "metadata": {},
   "source": [
    "**Ploting The Columns Data**"
   ]
  },
  {
   "cell_type": "code",
   "execution_count": null,
   "metadata": {},
   "outputs": [],
   "source": [
    "dataFrame.plot()"
   ]
  },
  {
   "cell_type": "markdown",
   "metadata": {},
   "source": [
    "**Correlation**"
   ]
  },
  {
   "cell_type": "code",
   "execution_count": null,
   "metadata": {},
   "outputs": [],
   "source": [
    "corr_matrix = dataFrame.corr()      \n",
    "corr_matrix[\"Trip_Price\"].sort_values(ascending=False)"
   ]
  },
  {
   "cell_type": "code",
   "execution_count": null,
   "metadata": {},
   "outputs": [],
   "source": [
    "fig, ax = plt.subplots(figsize=(10, 10))\n",
    "colormap = sns.color_palette(\"BrBG\", 10)\n",
    "sns.heatmap(corr_matrix, cmap=colormap, annot=True, fmt=\".2f\")\n",
    "plt.show()"
   ]
  },
  {
   "cell_type": "markdown",
   "metadata": {},
   "source": [
    "**Value Counting**"
   ]
  },
  {
   "cell_type": "code",
   "execution_count": null,
   "metadata": {},
   "outputs": [],
   "source": [
    "dataFrame['Traffic_Conditions'].value_counts()\n"
   ]
  },
  {
   "cell_type": "code",
   "execution_count": null,
   "metadata": {},
   "outputs": [],
   "source": [
    "sns.countplot(x= 'Traffic_Conditions',hue='Traffic_Conditions', data=dataFrame, )\n",
    "plt.show()"
   ]
  },
  {
   "cell_type": "code",
   "execution_count": null,
   "metadata": {},
   "outputs": [],
   "source": [
    "dataFrame['Passenger_Count'].value_counts()"
   ]
  },
  {
   "cell_type": "code",
   "execution_count": null,
   "metadata": {},
   "outputs": [],
   "source": [
    "sns.countplot(x= 'Passenger_Count', data=dataFrame, )\n",
    "plt.show()"
   ]
  },
  {
   "cell_type": "code",
   "execution_count": null,
   "metadata": {},
   "outputs": [],
   "source": [
    "dataFrame['Time_of_Day'].value_counts()"
   ]
  },
  {
   "cell_type": "code",
   "execution_count": null,
   "metadata": {},
   "outputs": [],
   "source": [
    "sns.countplot(x= 'Time_of_Day',hue='Time_of_Day', data=dataFrame,)\n",
    "plt.show()"
   ]
  },
  {
   "cell_type": "code",
   "execution_count": null,
   "metadata": {},
   "outputs": [],
   "source": [
    "dataFrame['Weather'].value_counts()"
   ]
  },
  {
   "cell_type": "code",
   "execution_count": null,
   "metadata": {},
   "outputs": [],
   "source": [
    "sns.countplot(x= 'Weather',hue='Weather', data=dataFrame,)\n",
    "plt.show()"
   ]
  },
  {
   "cell_type": "code",
   "execution_count": null,
   "metadata": {},
   "outputs": [],
   "source": [
    "dataFrame['Day_of_Week'].value_counts()"
   ]
  },
  {
   "cell_type": "code",
   "execution_count": null,
   "metadata": {},
   "outputs": [],
   "source": [
    "sns.countplot(x= 'Day_of_Week',hue='Day_of_Week', data=dataFrame)\n",
    "plt.show()"
   ]
  },
  {
   "cell_type": "code",
   "execution_count": null,
   "metadata": {},
   "outputs": [],
   "source": [
    "dataFrame.info()"
   ]
  },
  {
   "cell_type": "markdown",
   "metadata": {},
   "source": [
    "**Choosing the Features and The Target Value**"
   ]
  },
  {
   "cell_type": "code",
   "execution_count": 26,
   "metadata": {},
   "outputs": [],
   "source": [
    "features = dataFrame.iloc[   :     ,     :-1]\n",
    "dependentVariable = dataFrame.iloc[:,   -1]"
   ]
  },
  {
   "cell_type": "markdown",
   "metadata": {},
   "source": [
    "**Scaling the Data**"
   ]
  },
  {
   "cell_type": "code",
   "execution_count": 27,
   "metadata": {},
   "outputs": [],
   "source": [
    "standardScalar = StandardScaler()\n",
    "features = standardScalar.fit_transform(features)  "
   ]
  },
  {
   "cell_type": "code",
   "execution_count": 28,
   "metadata": {},
   "outputs": [],
   "source": [
    "featuresTrain, featuresTest, dependentVariableTrain, dependentVariableTest = train_test_split(features, dependentVariable , test_size=0.2, random_state=200)"
   ]
  },
  {
   "cell_type": "code",
   "execution_count": null,
   "metadata": {},
   "outputs": [],
   "source": [
    "featuresTrain"
   ]
  },
  {
   "cell_type": "code",
   "execution_count": null,
   "metadata": {},
   "outputs": [],
   "source": [
    "featuresTest"
   ]
  },
  {
   "cell_type": "code",
   "execution_count": null,
   "metadata": {},
   "outputs": [],
   "source": [
    "dependentVariableTrain\n",
    "\n"
   ]
  },
  {
   "cell_type": "code",
   "execution_count": null,
   "metadata": {},
   "outputs": [],
   "source": [
    "dependentVariableTest"
   ]
  },
  {
   "cell_type": "markdown",
   "metadata": {},
   "source": [
    "**Alogrithm Used :**"
   ]
  },
  {
   "cell_type": "code",
   "execution_count": 33,
   "metadata": {},
   "outputs": [],
   "source": [
    "model = LinearRegression()\n",
    "model.fit(featuresTrain, dependentVariableTrain)\n",
    "predections = model.predict(featuresTest)"
   ]
  },
  {
   "cell_type": "markdown",
   "metadata": {},
   "source": [
    "**The Accuracy**"
   ]
  },
  {
   "cell_type": "code",
   "execution_count": null,
   "metadata": {},
   "outputs": [],
   "source": [
    "rSquaredScore = r2_score(dependentVariableTest, predections)\n",
    "print(\"The accuracy is {}%\".format(round(rSquaredScore, 2) * 100))\n",
    "\n"
   ]
  },
  {
   "cell_type": "markdown",
   "metadata": {},
   "source": [
    "**Results**"
   ]
  },
  {
   "cell_type": "code",
   "execution_count": null,
   "metadata": {},
   "outputs": [],
   "source": [
    "results = pd.DataFrame({\n",
    "    \"Actual\": dependentVariableTest,\n",
    "    \"Predicted\": predections\n",
    "})\n",
    "print(results.head(20))"
   ]
  },
  {
   "cell_type": "markdown",
   "metadata": {},
   "source": [
    "**Ploting Actul vs Predections Data**"
   ]
  },
  {
   "cell_type": "code",
   "execution_count": null,
   "metadata": {},
   "outputs": [],
   "source": [
    "import matplotlib.pyplot as plt\n",
    "\n",
    "plt.scatter(dependentVariableTest, predections, alpha=1)\n",
    "plt.xlabel(\"Actual Values\")\n",
    "plt.ylabel(\"Predicted Values\")\n",
    "plt.title(\"Predicted vs Actual\")\n",
    "plt.show()"
   ]
  },
  {
   "cell_type": "markdown",
   "metadata": {},
   "source": [
    "**A User Input Code**"
   ]
  },
  {
   "cell_type": "code",
   "execution_count": null,
   "metadata": {},
   "outputs": [],
   "source": [
    "while True:\n",
    "    try:\n",
    "        trip_distance = float(input(\"Enter the Trip Distance (in km): \"))\n",
    "        if trip_distance <= 0:\n",
    "            raise ValueError(\"Distance should be a positive number.\")\n",
    "        break  \n",
    "\n",
    "    except ValueError as e:\n",
    "        print(f\"Error: {e}. Please enter a valid number for trip distance.\")\n",
    "\n",
    "while True:\n",
    "    try:\n",
    "        time = input(\"Enter the Time of Day ([M]orning , [A]fternoon , [E]vening , [N]ight): \").lower()\n",
    "        global time_of_day\n",
    "        match time:\n",
    "            case \"m\":\n",
    "                time_of_day = 0\n",
    "            case \"a\":\n",
    "                time_of_day = 1\n",
    "            case \"e\":\n",
    "                time_of_day = 2\n",
    "            case \"n\":\n",
    "                time_of_day = 3\n",
    "            case _:\n",
    "                raise ValueError(\"Invalid input for time of day. Please enter a valid option.\")\n",
    "        break  \n",
    "    except ValueError as e:\n",
    "        print(f\"Error: {e}. Please enter a valid time of day.\")\n",
    "\n",
    "while True:\n",
    "    try:\n",
    "        day = input(\"Enter the Day of Week (Week[d]ay , Week[e]nd): \").lower()\n",
    "        global day_of_week\n",
    "        match day:\n",
    "            case \"d\":\n",
    "                day_of_week = 0\n",
    "            case \"e\":\n",
    "                day_of_week = 1\n",
    "            case _:\n",
    "                raise ValueError(\"Invalid input for day of week. Please enter a valid option.\")\n",
    "        break  \n",
    "    except ValueError as e:\n",
    "        print(f\"Error: {e}. Please enter a valid day of the week.\")\n",
    "\n",
    "while True:\n",
    "    try:\n",
    "        passenger_count = int(input(\"Enter the Passenger Count (1-4): \")) - 1\n",
    "        if passenger_count not in range(0, 4):  \n",
    "            raise ValueError(\"Passenger count should be between 1 and 4.\")\n",
    "        break  \n",
    "    except ValueError as e:\n",
    "        print(f\"Error: {e}. Please enter a valid passenger count.\")\n",
    "\n",
    "while True:\n",
    "    try:\n",
    "        traffic = input(\"Enter the Traffic Conditions ([L]ow , [M]edium , [H]igh): \").lower()\n",
    "        global traffic_conditions\n",
    "        match traffic:\n",
    "            case \"l\":\n",
    "                traffic_conditions = 0\n",
    "            case \"m\":\n",
    "                traffic_conditions = 1\n",
    "            case \"h\":\n",
    "                traffic_conditions = 2\n",
    "            case _:\n",
    "                raise ValueError(\"Invalid input for traffic conditions. Please enter a valid option.\")\n",
    "        break  \n",
    "    except ValueError as e:\n",
    "        print(f\"Error: {e}. Please enter a valid traffic condition.\")\n",
    "\n",
    "while True:\n",
    "    try:\n",
    "        weather_condition = input(\"Enter the Weather condition ([C]lear , [R]ain , [S]now): \").lower()\n",
    "        global weather\n",
    "        match weather_condition:\n",
    "            case \"c\":\n",
    "                weather = 0\n",
    "            case \"r\":\n",
    "                weather = 1\n",
    "            case \"s\":\n",
    "                weather = 2\n",
    "            case _:\n",
    "                raise ValueError(\"Invalid input for weather condition. Please enter a valid option.\")\n",
    "        break  \n",
    "    except ValueError as e:\n",
    "        print(f\"Error: {e}. Please enter a valid weather condition.\")\n",
    "\n",
    "while True:\n",
    "    try:\n",
    "        trip_duration = float(input(\"Enter the Trip Duration (could be a float): \"))\n",
    "        if trip_duration <= 0:\n",
    "            raise ValueError(\"Duration should be a positive number.\")\n",
    "        break  \n",
    "    except ValueError as e:\n",
    "        print(f\"Error: {e}. Please enter a valid trip duration.\")\n",
    "\n",
    "\n",
    "user_input = [[trip_distance, time_of_day, day_of_week, passenger_count, traffic_conditions, weather, trip_duration]]\n",
    "user_input_scaled = standardScalar.transform(user_input)\n",
    "prediction = model.predict(user_input_scaled)\n",
    "print(f\"The predicted Trip Price is: {prediction[0]}\")\n"
   ]
  }
 ],
 "metadata": {
  "kernelspec": {
   "display_name": "Python 3",
   "language": "python",
   "name": "python3"
  },
  "language_info": {
   "codemirror_mode": {
    "name": "ipython",
    "version": 3
   },
   "file_extension": ".py",
   "mimetype": "text/x-python",
   "name": "python",
   "nbconvert_exporter": "python",
   "pygments_lexer": "ipython3",
   "version": "3.12.8"
  }
 },
 "nbformat": 4,
 "nbformat_minor": 2
}
